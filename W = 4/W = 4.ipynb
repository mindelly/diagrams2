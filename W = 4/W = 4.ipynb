{
 "cells": [
  {
   "cell_type": "code",
   "execution_count": 1,
   "metadata": {},
   "outputs": [],
   "source": [
    "import pandas as pd\n",
    "import numpy as np\n",
    "import matplotlib.pyplot as plt\n",
    "import json"
   ]
  },
  {
   "cell_type": "code",
   "execution_count": 2,
   "metadata": {},
   "outputs": [],
   "source": [
    "df = pd.read_excel('w4-40-polaron-v3.xlsx')\n",
    "df2 = pd.read_excel('w4-40-equal-v4.xlsx')"
   ]
  },
  {
   "cell_type": "code",
   "execution_count": 4,
   "metadata": {},
   "outputs": [],
   "source": [
    "l = list(range(2,30))+list(range(30,100,5))+list(range(105,156,5))+[159]"
   ]
  },
  {
   "cell_type": "code",
   "execution_count": 5,
   "metadata": {},
   "outputs": [],
   "source": [
    "# mu5 = (df[(df['Nup_total']==i+1) & (df['Ndown_total']==1)]['E'].values[0] - df[(df['Nup_total']==i) & (df['Ndown_total']==0)]['E'].values[0])/2\n",
    "# h5 = (df[(df['Nup_total']==i-1) & (df['Ndown_total']==1)]['E'].values[0] - df[(df['Nup_total']==i) & (df['Ndown_total']==0)]['E'].values[0])/-2\n",
    "    "
   ]
  },
  {
   "cell_type": "markdown",
   "metadata": {},
   "source": [
    "# Полярон"
   ]
  },
  {
   "cell_type": "code",
   "execution_count": 5,
   "metadata": {},
   "outputs": [],
   "source": [
    "mu1, h1 = [], []\n",
    "for i in l:\n",
    "    mu = (df[(df['Nup_total']==i+1) & (df['Ndown_total']==1)]['E'].values[0] - df[(df['Nup_total']==i) & (df['Ndown_total']==0)]['E'].values[0])/2\n",
    "    h = (df[(df['Nup_total']==i-1) & (df['Ndown_total']==1)]['E'].values[0] - df[(df['Nup_total']==i) & (df['Ndown_total']==0)]['E'].values[0])/-2\n",
    "    mu1.append(mu)\n",
    "    h1.append(h)"
   ]
  },
  {
   "cell_type": "markdown",
   "metadata": {},
   "source": [
    "# Равные"
   ]
  },
  {
   "cell_type": "code",
   "execution_count": 6,
   "metadata": {},
   "outputs": [],
   "source": [
    "df2_list = list(range(2,30))+list(range(30,81,5))"
   ]
  },
  {
   "cell_type": "code",
   "execution_count": 7,
   "metadata": {},
   "outputs": [],
   "source": [
    "mu_, h_ = [], []\n",
    "for i in df2_list:\n",
    "    mu = (df2[(df2['Nup_total']==i+1) & (df2['Ndown_total']==i+1)]['E'].values[0] - df2[(df2['Nup_total']==i) & (df2['Ndown_total']==i)]['E'].values[0])/2\n",
    "    h = (df2[(df2['Nup_total']==i+1) & (df2['Ndown_total']==i-1)]['E'].values[0] - df2[(df2['Nup_total']==i) & (df2['Ndown_total']==i)]['E'].values[0])/2\n",
    "    mu_.append(mu)\n",
    "    h_.append(h)"
   ]
  },
  {
   "cell_type": "markdown",
   "metadata": {},
   "source": [
    "# Доп.Линии"
   ]
  },
  {
   "cell_type": "code",
   "execution_count": 8,
   "metadata": {},
   "outputs": [],
   "source": [
    "e11 = df[(df['Nup_total']==1) & (df['Ndown_total']==1)]['E'].values[0]\n",
    "e10 = df[(df['Nup_total']==159) & (df['Ndown_total']==0)]['E'].values[0]\n",
    "\n",
    "def mu(h):\n",
    "    return -h +e10\n",
    "\n",
    "def mu3(h):\n",
    "    return -h - e10\n",
    "\n",
    "h = np.arange(h1[0], 10, 0.1)\n",
    "h3 = np.arange(6.5, 10, 0.1)"
   ]
  },
  {
   "cell_type": "code",
   "execution_count": 47,
   "metadata": {},
   "outputs": [
    {
     "data": {
      "text/plain": [
       "25.6"
      ]
     },
     "execution_count": 47,
     "metadata": {},
     "output_type": "execute_result"
    }
   ],
   "source": [
    "0.16*160"
   ]
  },
  {
   "cell_type": "code",
   "execution_count": 49,
   "metadata": {},
   "outputs": [
    {
     "data": {
      "text/plain": [
       "25"
      ]
     },
     "execution_count": 49,
     "metadata": {},
     "output_type": "execute_result"
    }
   ],
   "source": [
    "range(2,30)[23]"
   ]
  },
  {
   "cell_type": "code",
   "execution_count": 50,
   "metadata": {},
   "outputs": [
    {
     "data": {
      "text/plain": [
       "(-4.195711871588202, 1.3065174613613948)"
      ]
     },
     "execution_count": 50,
     "metadata": {},
     "output_type": "execute_result"
    }
   ],
   "source": [
    "list(zip(mu_,h_))[23]"
   ]
  },
  {
   "cell_type": "code",
   "execution_count": 44,
   "metadata": {},
   "outputs": [
    {
     "data": {
      "text/plain": [
       "(-4.439341556053584, 2.1946416796811548)"
      ]
     },
     "execution_count": 44,
     "metadata": {},
     "output_type": "execute_result"
    }
   ],
   "source": [
    "list(zip(mu1,h1))[22]"
   ]
  },
  {
   "cell_type": "code",
   "execution_count": 12,
   "metadata": {},
   "outputs": [
    {
     "data": {
      "text/plain": [
       "(-4.484143700892602, 2.0197717737798655)"
      ]
     },
     "execution_count": 12,
     "metadata": {},
     "output_type": "execute_result"
    }
   ],
   "source": [
    "list(filter(lambda x: x[0] == -4.484143700892602169,  zip(mu1,h1)))[0]"
   ]
  },
  {
   "cell_type": "code",
   "execution_count": 13,
   "metadata": {},
   "outputs": [],
   "source": [
    "ddf = pd.DataFrame(list(zip(mu1,h1)))\n",
    "ddf.columns = ['mu', 'h']"
   ]
  },
  {
   "cell_type": "code",
   "execution_count": 14,
   "metadata": {},
   "outputs": [
    {
     "name": "stdout",
     "output_type": "stream",
     "text": [
      "Object `plt.hline` not found.\n"
     ]
    }
   ],
   "source": [
    "plt.hline??"
   ]
  },
  {
   "cell_type": "code",
   "execution_count": 16,
   "metadata": {},
   "outputs": [],
   "source": [
    "# %matplotlib notebook\n",
    "# plt.figure(figsize=(12, 7))\n",
    "\n",
    "# ddf.plot(x = 'h', y = 'mu')\n",
    "# plt.axhline(y=-4.484143700892602169, xmax = 3, ls='-', c = 'red') "
   ]
  },
  {
   "cell_type": "code",
   "execution_count": null,
   "metadata": {},
   "outputs": [],
   "source": []
  },
  {
   "cell_type": "code",
   "execution_count": 27,
   "metadata": {},
   "outputs": [],
   "source": [
    "df = pd.concat([df, df2]).reset_index(drop = True)"
   ]
  },
  {
   "cell_type": "code",
   "execution_count": 28,
   "metadata": {},
   "outputs": [
    {
     "data": {
      "text/html": [
       "<div>\n",
       "<style scoped>\n",
       "    .dataframe tbody tr th:only-of-type {\n",
       "        vertical-align: middle;\n",
       "    }\n",
       "\n",
       "    .dataframe tbody tr th {\n",
       "        vertical-align: top;\n",
       "    }\n",
       "\n",
       "    .dataframe thead th {\n",
       "        text-align: right;\n",
       "    }\n",
       "</style>\n",
       "<table border=\"1\" class=\"dataframe\">\n",
       "  <thead>\n",
       "    <tr style=\"text-align: right;\">\n",
       "      <th></th>\n",
       "      <th>truncation_error</th>\n",
       "      <th>E</th>\n",
       "      <th>L</th>\n",
       "      <th>Ndown_total</th>\n",
       "      <th>Nup_total</th>\n",
       "      <th>eq</th>\n",
       "      <th>Unnamed: 0</th>\n",
       "    </tr>\n",
       "  </thead>\n",
       "  <tbody>\n",
       "    <tr>\n",
       "      <th>0</th>\n",
       "      <td>-5.551115e-17</td>\n",
       "      <td>-9.200085</td>\n",
       "      <td>40</td>\n",
       "      <td>1</td>\n",
       "      <td>1</td>\n",
       "      <td>False</td>\n",
       "      <td>NaN</td>\n",
       "    </tr>\n",
       "    <tr>\n",
       "      <th>1</th>\n",
       "      <td>4.440892e-16</td>\n",
       "      <td>-12.805308</td>\n",
       "      <td>40</td>\n",
       "      <td>1</td>\n",
       "      <td>2</td>\n",
       "      <td>False</td>\n",
       "      <td>NaN</td>\n",
       "    </tr>\n",
       "    <tr>\n",
       "      <th>2</th>\n",
       "      <td>1.814521e-15</td>\n",
       "      <td>-16.390134</td>\n",
       "      <td>40</td>\n",
       "      <td>1</td>\n",
       "      <td>3</td>\n",
       "      <td>False</td>\n",
       "      <td>NaN</td>\n",
       "    </tr>\n",
       "    <tr>\n",
       "      <th>3</th>\n",
       "      <td>2.091724e-15</td>\n",
       "      <td>-19.942724</td>\n",
       "      <td>40</td>\n",
       "      <td>1</td>\n",
       "      <td>4</td>\n",
       "      <td>False</td>\n",
       "      <td>NaN</td>\n",
       "    </tr>\n",
       "    <tr>\n",
       "      <th>4</th>\n",
       "      <td>2.506290e-15</td>\n",
       "      <td>-23.451008</td>\n",
       "      <td>40</td>\n",
       "      <td>1</td>\n",
       "      <td>5</td>\n",
       "      <td>False</td>\n",
       "      <td>NaN</td>\n",
       "    </tr>\n",
       "    <tr>\n",
       "      <th>...</th>\n",
       "      <td>...</td>\n",
       "      <td>...</td>\n",
       "      <td>...</td>\n",
       "      <td>...</td>\n",
       "      <td>...</td>\n",
       "      <td>...</td>\n",
       "      <td>...</td>\n",
       "    </tr>\n",
       "    <tr>\n",
       "      <th>226</th>\n",
       "      <td>3.369590e-06</td>\n",
       "      <td>-643.623423</td>\n",
       "      <td>40</td>\n",
       "      <td>80</td>\n",
       "      <td>80</td>\n",
       "      <td>NaN</td>\n",
       "      <td>87.0</td>\n",
       "    </tr>\n",
       "    <tr>\n",
       "      <th>227</th>\n",
       "      <td>5.730318e-06</td>\n",
       "      <td>-531.929251</td>\n",
       "      <td>40</td>\n",
       "      <td>64</td>\n",
       "      <td>66</td>\n",
       "      <td>NaN</td>\n",
       "      <td>88.0</td>\n",
       "    </tr>\n",
       "    <tr>\n",
       "      <th>228</th>\n",
       "      <td>6.521240e-06</td>\n",
       "      <td>-604.537542</td>\n",
       "      <td>40</td>\n",
       "      <td>74</td>\n",
       "      <td>76</td>\n",
       "      <td>NaN</td>\n",
       "      <td>89.0</td>\n",
       "    </tr>\n",
       "    <tr>\n",
       "      <th>229</th>\n",
       "      <td>1.400079e-05</td>\n",
       "      <td>-640.022510</td>\n",
       "      <td>40</td>\n",
       "      <td>79</td>\n",
       "      <td>81</td>\n",
       "      <td>NaN</td>\n",
       "      <td>90.0</td>\n",
       "    </tr>\n",
       "    <tr>\n",
       "      <th>230</th>\n",
       "      <td>7.543290e-06</td>\n",
       "      <td>-568.496875</td>\n",
       "      <td>40</td>\n",
       "      <td>69</td>\n",
       "      <td>71</td>\n",
       "      <td>NaN</td>\n",
       "      <td>91.0</td>\n",
       "    </tr>\n",
       "  </tbody>\n",
       "</table>\n",
       "<p>231 rows × 7 columns</p>\n",
       "</div>"
      ],
      "text/plain": [
       "     truncation_error           E   L  Ndown_total  Nup_total     eq  \\\n",
       "0       -5.551115e-17   -9.200085  40            1          1  False   \n",
       "1        4.440892e-16  -12.805308  40            1          2  False   \n",
       "2        1.814521e-15  -16.390134  40            1          3  False   \n",
       "3        2.091724e-15  -19.942724  40            1          4  False   \n",
       "4        2.506290e-15  -23.451008  40            1          5  False   \n",
       "..                ...         ...  ..          ...        ...    ...   \n",
       "226      3.369590e-06 -643.623423  40           80         80    NaN   \n",
       "227      5.730318e-06 -531.929251  40           64         66    NaN   \n",
       "228      6.521240e-06 -604.537542  40           74         76    NaN   \n",
       "229      1.400079e-05 -640.022510  40           79         81    NaN   \n",
       "230      7.543290e-06 -568.496875  40           69         71    NaN   \n",
       "\n",
       "     Unnamed: 0  \n",
       "0           NaN  \n",
       "1           NaN  \n",
       "2           NaN  \n",
       "3           NaN  \n",
       "4           NaN  \n",
       "..          ...  \n",
       "226        87.0  \n",
       "227        88.0  \n",
       "228        89.0  \n",
       "229        90.0  \n",
       "230        91.0  \n",
       "\n",
       "[231 rows x 7 columns]"
      ]
     },
     "execution_count": 28,
     "metadata": {},
     "output_type": "execute_result"
    }
   ],
   "source": [
    "df"
   ]
  },
  {
   "cell_type": "markdown",
   "metadata": {},
   "source": [
    "# График"
   ]
  },
  {
   "cell_type": "code",
   "execution_count": 9,
   "metadata": {},
   "outputs": [
    {
     "name": "stderr",
     "output_type": "stream",
     "text": [
      "<ipython-input-9-35ab15fb82c4>:4: UserWarning: linestyle is redundantly defined by the 'linestyle' keyword argument and the fmt string \"-\" (-> linestyle='-'). The keyword argument will take precedence.\n",
      "  plt.plot(h1, mu1, '-', color='#1f77b4', **kwds)\n",
      "<ipython-input-9-35ab15fb82c4>:9: UserWarning: linestyle is redundantly defined by the 'linestyle' keyword argument and the fmt string \"-\" (-> linestyle='-'). The keyword argument will take precedence.\n",
      "  plt.plot(h, mu(h), '-', color = '#2ca02c', ls='-')\n"
     ]
    },
    {
     "data": {
      "image/png": "[encoded data removed]",
      "text/plain": [
       "<Figure size 648x432 with 1 Axes>"
      ]
     },
     "metadata": {
      "needs_background": "light"
     },
     "output_type": "display_data"
    }
   ],
   "source": [
    "plt.figure(figsize=(9, 6))\n",
    "# ['', '', '', ''\n",
    "kwds = dict(ls='--', marker='o', lw=2, markersize=7)\n",
    "plt.plot(h1, mu1, '-', color='#1f77b4', **kwds)\n",
    "plt.plot(h_, mu_, color='#ff7f0e', **kwds)\n",
    "\n",
    "plt.axhline(y=(e11/2), color='#e377c2', xmax = h1[0]/8.5, ls='-') \n",
    "plt.axvline(x=h1[0], color='black', ls='--')\n",
    "plt.plot(h, mu(h), '-', color = '#2ca02c', ls='-')\n",
    "plt.plot(h3, mu3(h3), '-', color = '#d62728')\n",
    "plt.axis([0, 9, -4.95, -3.5])\n",
    "plt.text(0.2, -3.9, r'$ED$', fontsize=35, color='darkblue')\n",
    "# plt.text(0.1, -4.85, r'$N_{\\uparrow} = 0$', fontsize=20, color='darkblue')\n",
    "# plt.text(0.1, -4.95, r'$N_{\\downarrow} = 0$', fontsize=20, color='darkblue')\n",
    "plt.text(0.3, -4.75, r'$V$', fontsize=35, color='darkblue')\n",
    "plt.text(3.6, -4.0, r'$PP$', fontsize=35, color='darkblue')\n",
    "plt.text(3.6, -4.75, r'$FP_1$', fontsize=35, color='darkblue')\n",
    "plt.text(7.8, -3.9, r'$FP_2$', fontsize=35, color='darkblue')\n",
    "plt.xlabel('$h$', fontsize=35)\n",
    "plt.ylabel(r'$\\mu$', fontsize=35)\n",
    "plt.gca().xaxis.set_tick_params(labelsize=20)\n",
    "plt.gca().yaxis.set_tick_params(labelsize=20)\n",
    "plt.tight_layout()\n",
    "plt.show()\n",
    "# plt.savefig('W4.png')"
   ]
  },
  {
   "cell_type": "code",
   "execution_count": 26,
   "metadata": {},
   "outputs": [],
   "source": [
    "# plt.gca().set_tick_params??"
   ]
  },
  {
   "cell_type": "code",
   "execution_count": null,
   "metadata": {},
   "outputs": [],
   "source": [
    "plt.gca().set_tick_params"
   ]
  },
  {
   "cell_type": "code",
   "execution_count": null,
   "metadata": {},
   "outputs": [],
   "source": [
    "plt.gca().yaxis.set_tick_params"
   ]
  },
  {
   "cell_type": "code",
   "execution_count": null,
   "metadata": {},
   "outputs": [],
   "source": [
    "plt.gca().yaxis.set_tick_params"
   ]
  },
  {
   "cell_type": "code",
   "execution_count": 9,
   "metadata": {},
   "outputs": [
    {
     "data": {
      "text/plain": [
       "25921"
      ]
     },
     "execution_count": 9,
     "metadata": {},
     "output_type": "execute_result"
    }
   ],
   "source": [
    "161*161"
   ]
  },
  {
   "cell_type": "code",
   "execution_count": 14,
   "metadata": {},
   "outputs": [],
   "source": [
    "combs = set()\n",
    "for i in range(0,161):\n",
    "    for j in range(i,161):\n",
    "        combs.add((i,j))"
   ]
  },
  {
   "cell_type": "code",
   "execution_count": 15,
   "metadata": {},
   "outputs": [
    {
     "data": {
      "text/plain": [
       "13041"
      ]
     },
     "execution_count": 15,
     "metadata": {},
     "output_type": "execute_result"
    }
   ],
   "source": [
    "len(combs)"
   ]
  },
  {
   "cell_type": "code",
   "execution_count": 10,
   "metadata": {},
   "outputs": [],
   "source": [
    "to_drop = set()\n",
    "for i in combs:\n",
    "    for j in combs:\n",
    "        if (i[0]==j[1]) and (i[1]==j[0]):\n",
    "            to_drop.add(j)"
   ]
  },
  {
   "cell_type": "code",
   "execution_count": 12,
   "metadata": {},
   "outputs": [
    {
     "data": {
      "text/plain": [
       "25921"
      ]
     },
     "execution_count": 12,
     "metadata": {},
     "output_type": "execute_result"
    }
   ],
   "source": [
    "len(to_drop)"
   ]
  },
  {
   "cell_type": "code",
   "execution_count": 20,
   "metadata": {},
   "outputs": [],
   "source": [
    "import re\n",
    "data = []\n",
    "with open('w4_v2.csv') as f:\n",
    "    for line in f:\n",
    "        data.append({'Nup': int(re.search(r'(?<=Nup =)[\\d\\.]+', line).group()),\n",
    "               'Ndown': int(re.search(r'(?<=Ndown = )[\\d\\.]+', line).group()),\n",
    "               'E': float(re.search(r'(?<=E = )[\\d\\.-]+', line).group())})"
   ]
  },
  {
   "cell_type": "code",
   "execution_count": 21,
   "metadata": {},
   "outputs": [],
   "source": [
    "import pandas as pd"
   ]
  },
  {
   "cell_type": "code",
   "execution_count": 22,
   "metadata": {},
   "outputs": [],
   "source": [
    "df = pd.DataFrame(data)"
   ]
  },
  {
   "cell_type": "code",
   "execution_count": 23,
   "metadata": {},
   "outputs": [
    {
     "data": {
      "text/html": [
       "<div>\n",
       "<style scoped>\n",
       "    .dataframe tbody tr th:only-of-type {\n",
       "        vertical-align: middle;\n",
       "    }\n",
       "\n",
       "    .dataframe tbody tr th {\n",
       "        vertical-align: top;\n",
       "    }\n",
       "\n",
       "    .dataframe thead th {\n",
       "        text-align: right;\n",
       "    }\n",
       "</style>\n",
       "<table border=\"1\" class=\"dataframe\">\n",
       "  <thead>\n",
       "    <tr style=\"text-align: right;\">\n",
       "      <th></th>\n",
       "      <th>Nup</th>\n",
       "      <th>Ndown</th>\n",
       "      <th>E</th>\n",
       "    </tr>\n",
       "  </thead>\n",
       "  <tbody>\n",
       "    <tr>\n",
       "      <th>0</th>\n",
       "      <td>137</td>\n",
       "      <td>5</td>\n",
       "      <td>-117.462609</td>\n",
       "    </tr>\n",
       "    <tr>\n",
       "      <th>1</th>\n",
       "      <td>129</td>\n",
       "      <td>5</td>\n",
       "      <td>-132.812342</td>\n",
       "    </tr>\n",
       "    <tr>\n",
       "      <th>2</th>\n",
       "      <td>128</td>\n",
       "      <td>5</td>\n",
       "      <td>-134.420479</td>\n",
       "    </tr>\n",
       "    <tr>\n",
       "      <th>3</th>\n",
       "      <td>127</td>\n",
       "      <td>5</td>\n",
       "      <td>-135.978942</td>\n",
       "    </tr>\n",
       "    <tr>\n",
       "      <th>4</th>\n",
       "      <td>132</td>\n",
       "      <td>5</td>\n",
       "      <td>-127.518763</td>\n",
       "    </tr>\n",
       "    <tr>\n",
       "      <th>5</th>\n",
       "      <td>130</td>\n",
       "      <td>5</td>\n",
       "      <td>-131.101992</td>\n",
       "    </tr>\n",
       "    <tr>\n",
       "      <th>6</th>\n",
       "      <td>126</td>\n",
       "      <td>5</td>\n",
       "      <td>-137.455587</td>\n",
       "    </tr>\n",
       "    <tr>\n",
       "      <th>7</th>\n",
       "      <td>17</td>\n",
       "      <td>5</td>\n",
       "      <td>-84.201393</td>\n",
       "    </tr>\n",
       "    <tr>\n",
       "      <th>8</th>\n",
       "      <td>18</td>\n",
       "      <td>5</td>\n",
       "      <td>-86.999516</td>\n",
       "    </tr>\n",
       "    <tr>\n",
       "      <th>9</th>\n",
       "      <td>125</td>\n",
       "      <td>5</td>\n",
       "      <td>-138.861848</td>\n",
       "    </tr>\n",
       "    <tr>\n",
       "      <th>10</th>\n",
       "      <td>22</td>\n",
       "      <td>5</td>\n",
       "      <td>-97.559553</td>\n",
       "    </tr>\n",
       "    <tr>\n",
       "      <th>11</th>\n",
       "      <td>23</td>\n",
       "      <td>5</td>\n",
       "      <td>-100.031501</td>\n",
       "    </tr>\n",
       "    <tr>\n",
       "      <th>12</th>\n",
       "      <td>24</td>\n",
       "      <td>5</td>\n",
       "      <td>-102.470346</td>\n",
       "    </tr>\n",
       "    <tr>\n",
       "      <th>13</th>\n",
       "      <td>28</td>\n",
       "      <td>5</td>\n",
       "      <td>-111.676566</td>\n",
       "    </tr>\n",
       "    <tr>\n",
       "      <th>14</th>\n",
       "      <td>124</td>\n",
       "      <td>5</td>\n",
       "      <td>-140.201591</td>\n",
       "    </tr>\n",
       "    <tr>\n",
       "      <th>15</th>\n",
       "      <td>27</td>\n",
       "      <td>5</td>\n",
       "      <td>-109.465916</td>\n",
       "    </tr>\n",
       "    <tr>\n",
       "      <th>16</th>\n",
       "      <td>25</td>\n",
       "      <td>5</td>\n",
       "      <td>-104.864251</td>\n",
       "    </tr>\n",
       "    <tr>\n",
       "      <th>17</th>\n",
       "      <td>26</td>\n",
       "      <td>5</td>\n",
       "      <td>-107.175367</td>\n",
       "    </tr>\n",
       "    <tr>\n",
       "      <th>18</th>\n",
       "      <td>30</td>\n",
       "      <td>5</td>\n",
       "      <td>-115.922764</td>\n",
       "    </tr>\n",
       "    <tr>\n",
       "      <th>19</th>\n",
       "      <td>29</td>\n",
       "      <td>5</td>\n",
       "      <td>-113.821826</td>\n",
       "    </tr>\n",
       "    <tr>\n",
       "      <th>20</th>\n",
       "      <td>33</td>\n",
       "      <td>5</td>\n",
       "      <td>-121.770790</td>\n",
       "    </tr>\n",
       "    <tr>\n",
       "      <th>21</th>\n",
       "      <td>34</td>\n",
       "      <td>5</td>\n",
       "      <td>-123.608038</td>\n",
       "    </tr>\n",
       "    <tr>\n",
       "      <th>22</th>\n",
       "      <td>32</td>\n",
       "      <td>5</td>\n",
       "      <td>-119.902925</td>\n",
       "    </tr>\n",
       "    <tr>\n",
       "      <th>23</th>\n",
       "      <td>35</td>\n",
       "      <td>5</td>\n",
       "      <td>-125.344484</td>\n",
       "    </tr>\n",
       "    <tr>\n",
       "      <th>24</th>\n",
       "      <td>122</td>\n",
       "      <td>5</td>\n",
       "      <td>-142.761625</td>\n",
       "    </tr>\n",
       "    <tr>\n",
       "      <th>25</th>\n",
       "      <td>36</td>\n",
       "      <td>5</td>\n",
       "      <td>-127.030931</td>\n",
       "    </tr>\n",
       "    <tr>\n",
       "      <th>26</th>\n",
       "      <td>120</td>\n",
       "      <td>5</td>\n",
       "      <td>-145.248957</td>\n",
       "    </tr>\n",
       "    <tr>\n",
       "      <th>27</th>\n",
       "      <td>123</td>\n",
       "      <td>5</td>\n",
       "      <td>-141.492846</td>\n",
       "    </tr>\n",
       "    <tr>\n",
       "      <th>28</th>\n",
       "      <td>118</td>\n",
       "      <td>5</td>\n",
       "      <td>-147.635823</td>\n",
       "    </tr>\n",
       "    <tr>\n",
       "      <th>29</th>\n",
       "      <td>121</td>\n",
       "      <td>5</td>\n",
       "      <td>-144.014132</td>\n",
       "    </tr>\n",
       "    <tr>\n",
       "      <th>30</th>\n",
       "      <td>119</td>\n",
       "      <td>5</td>\n",
       "      <td>-146.445430</td>\n",
       "    </tr>\n",
       "    <tr>\n",
       "      <th>31</th>\n",
       "      <td>110</td>\n",
       "      <td>5</td>\n",
       "      <td>-155.756796</td>\n",
       "    </tr>\n",
       "    <tr>\n",
       "      <th>32</th>\n",
       "      <td>114</td>\n",
       "      <td>5</td>\n",
       "      <td>-151.993662</td>\n",
       "    </tr>\n",
       "  </tbody>\n",
       "</table>\n",
       "</div>"
      ],
      "text/plain": [
       "    Nup  Ndown           E\n",
       "0   137      5 -117.462609\n",
       "1   129      5 -132.812342\n",
       "2   128      5 -134.420479\n",
       "3   127      5 -135.978942\n",
       "4   132      5 -127.518763\n",
       "5   130      5 -131.101992\n",
       "6   126      5 -137.455587\n",
       "7    17      5  -84.201393\n",
       "8    18      5  -86.999516\n",
       "9   125      5 -138.861848\n",
       "10   22      5  -97.559553\n",
       "11   23      5 -100.031501\n",
       "12   24      5 -102.470346\n",
       "13   28      5 -111.676566\n",
       "14  124      5 -140.201591\n",
       "15   27      5 -109.465916\n",
       "16   25      5 -104.864251\n",
       "17   26      5 -107.175367\n",
       "18   30      5 -115.922764\n",
       "19   29      5 -113.821826\n",
       "20   33      5 -121.770790\n",
       "21   34      5 -123.608038\n",
       "22   32      5 -119.902925\n",
       "23   35      5 -125.344484\n",
       "24  122      5 -142.761625\n",
       "25   36      5 -127.030931\n",
       "26  120      5 -145.248957\n",
       "27  123      5 -141.492846\n",
       "28  118      5 -147.635823\n",
       "29  121      5 -144.014132\n",
       "30  119      5 -146.445430\n",
       "31  110      5 -155.756796\n",
       "32  114      5 -151.993662"
      ]
     },
     "execution_count": 23,
     "metadata": {},
     "output_type": "execute_result"
    }
   ],
   "source": [
    "df"
   ]
  },
  {
   "cell_type": "code",
   "execution_count": null,
   "metadata": {},
   "outputs": [],
   "source": []
  }
 ],
 "metadata": {
  "kernelspec": {
   "display_name": "Python 3 (ipykernel)",
   "language": "python",
   "name": "python3"
  },
  "language_info": {
   "codemirror_mode": {
    "name": "ipython",
    "version": 3
   },
   "file_extension": ".py",
   "mimetype": "text/x-python",
   "name": "python",
   "nbconvert_exporter": "python",
   "pygments_lexer": "ipython3",
   "version": "3.8.18"
  }
 },
 "nbformat": 4,
 "nbformat_minor": 4
}
