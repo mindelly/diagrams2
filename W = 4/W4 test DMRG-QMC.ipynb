{
 "cells": [
  {
   "cell_type": "code",
   "execution_count": 83,
   "metadata": {},
   "outputs": [],
   "source": [
    "import pandas as pd\n",
    "import numpy as np\n",
    "import matplotlib.pyplot as plt\n",
    "import json\n",
    "import os"
   ]
  },
  {
   "cell_type": "code",
   "execution_count": 5,
   "metadata": {},
   "outputs": [],
   "source": [
    "df = pd.read_excel('w4-40-polaron-v3.xlsx')\n",
    "df2 = pd.read_excel('w4-40-equal-v4.xlsx')"
   ]
  },
  {
   "cell_type": "markdown",
   "metadata": {},
   "source": [
    "# Tiancheng's data \n",
    "\n",
    "From DMRG we get:\n",
    "\n",
    "$\\mu_c = 4.24$ for EQ-PP crossing. Let's check if we can do better than Finite differences.\n",
    "\n",
    "for $W = 4$ and $L = 40$:\n",
    "\n",
    "Finite differences in DMRG suggest $h = 1.3$\n",
    "\n",
    "QMC suggests $n_{up} = 0.16$ and $n_{down} = 0.157$. $N_{up} = 25-26$ and $N_{down} = 25$\n",
    "\n",
    "for DMRG values QMC gives $n_{up} = 0.173$ and $n_{down} = 0.128$ $N_{up} = 27-28$ and $N_{up} = 20-21$"
   ]
  },
  {
   "cell_type": "code",
   "execution_count": 33,
   "metadata": {},
   "outputs": [],
   "source": [
    "h_range = np.arange(1,2,0.01)"
   ]
  },
  {
   "cell_type": "code",
   "execution_count": 7,
   "metadata": {},
   "outputs": [
    {
     "data": {
      "text/plain": [
       "1000"
      ]
     },
     "execution_count": 7,
     "metadata": {},
     "output_type": "execute_result"
    }
   ],
   "source": [
    "len(h_range)"
   ]
  },
  {
   "cell_type": "code",
   "execution_count": 9,
   "metadata": {},
   "outputs": [],
   "source": [
    "# E - mu(Nup+Ndown) - h(Nup - Ndown) = 0"
   ]
  },
  {
   "cell_type": "code",
   "execution_count": 73,
   "metadata": {},
   "outputs": [
    {
     "data": {
      "text/html": [
       "<div>\n",
       "<style scoped>\n",
       "    .dataframe tbody tr th:only-of-type {\n",
       "        vertical-align: middle;\n",
       "    }\n",
       "\n",
       "    .dataframe tbody tr th {\n",
       "        vertical-align: top;\n",
       "    }\n",
       "\n",
       "    .dataframe thead th {\n",
       "        text-align: right;\n",
       "    }\n",
       "</style>\n",
       "<table border=\"1\" class=\"dataframe\">\n",
       "  <thead>\n",
       "    <tr style=\"text-align: right;\">\n",
       "      <th></th>\n",
       "      <th>Unnamed: 0</th>\n",
       "      <th>truncation_error</th>\n",
       "      <th>E</th>\n",
       "      <th>L</th>\n",
       "      <th>Ndown_total</th>\n",
       "      <th>Nup_total</th>\n",
       "    </tr>\n",
       "  </thead>\n",
       "  <tbody>\n",
       "    <tr>\n",
       "      <th>65</th>\n",
       "      <td>65</td>\n",
       "      <td>0.000002</td>\n",
       "      <td>-429.917833</td>\n",
       "      <td>40</td>\n",
       "      <td>51</td>\n",
       "      <td>51</td>\n",
       "    </tr>\n",
       "    <tr>\n",
       "      <th>82</th>\n",
       "      <td>82</td>\n",
       "      <td>0.000004</td>\n",
       "      <td>-418.926323</td>\n",
       "      <td>40</td>\n",
       "      <td>49</td>\n",
       "      <td>51</td>\n",
       "    </tr>\n",
       "  </tbody>\n",
       "</table>\n",
       "</div>"
      ],
      "text/plain": [
       "    Unnamed: 0  truncation_error           E   L  Ndown_total  Nup_total\n",
       "65          65          0.000002 -429.917833  40           51         51\n",
       "82          82          0.000004 -418.926323  40           49         51"
      ]
     },
     "execution_count": 73,
     "metadata": {},
     "output_type": "execute_result"
    }
   ],
   "source": [
    "df2.query(\"Nup_total == 51 \").sort_values(by = 'Nup_total')"
   ]
  },
  {
   "cell_type": "code",
   "execution_count": 20,
   "metadata": {},
   "outputs": [],
   "source": [
    "def get_mu_range(df, nup, ndown, h_range):\n",
    "    E = df.query(f\"Nup_total == {nup} and Ndown_total == {ndown}\").E.values[0]\n",
    "    mu_range = [(E - h*(nup-ndown))/((nup+ndown)) for h in h_range]\n",
    "    return mu_range"
   ]
  },
  {
   "cell_type": "code",
   "execution_count": 38,
   "metadata": {},
   "outputs": [],
   "source": [
    "\n",
    "def mu(nup = 19, ndown = 17):\n",
    "    \n",
    "    return get_mu_range(df2, nup , ndown, h_range)"
   ]
  },
  {
   "cell_type": "code",
   "execution_count": 81,
   "metadata": {},
   "outputs": [
    {
     "data": {
      "text/plain": [
       "<matplotlib.legend.Legend at 0x7fc445d80940>"
      ]
     },
     "execution_count": 81,
     "metadata": {},
     "output_type": "execute_result"
    },
    {
     "data": {
      "image/png": "[encoded data removed]",
      "text/plain": [
       "<Figure size 640x480 with 1 Axes>"
      ]
     },
     "metadata": {},
     "output_type": "display_data"
    }
   ],
   "source": [
    "_ = plt.plot(h_range, mu(19,17), label = '19,17', c = 'r')\n",
    "_ = plt.plot(h_range, mu(27,25), label = '27,25', c = 'brown')\n",
    "_ = plt.plot(h_range, mu(46,44), label = '46,44', c = 'black')\n",
    "_ = plt.plot(h_range, mu(51,49), label = '51,49', c = 'purple')\n",
    "_ = plt.plot(h_range, mu(25,25), label = '25,25', c = 'g')\n",
    "_ = plt.plot(h_range, mu(40,40), label = '40,40', c = 'g')\n",
    "_ = plt.plot(h_range, mu(45,45), label = '45,45', c = 'g')\n",
    "\n",
    "plt.axhline(-4.24, label = r'$\\mu-value$')\n",
    "plt.xlabel('h', size = 15)\n",
    "plt.ylabel(r'$\\mu$', size = 15)\n",
    "plt.legend()"
   ]
  },
  {
   "cell_type": "markdown",
   "metadata": {},
   "source": [
    "# Where can we get from here?\n",
    "\n",
    "Data suggest that using the equation $E - \\mu(Nup+Ndown) - h(Nup - Ndown) = 0$ for finding the crossing point with $\\mu = 4.24$ gives some stramge results, say, If QMC gives us $h = 1.03$ , \n",
    "\n",
    "from DMRG data we are getting some similar results only for $Nup = 46$ and $Ndown = 44$, black line on the graph above.\n",
    "\n",
    "We only used $Nup = Ndown$ or $Nup = Ndown + 2$ data points, that we had previously. may be we can do better for other values of $Nup - Ndown$. Let's try. Unfortunately Energy values in DMRG have converged only +- up to 0.1, but that should be enough for qualitative results."
   ]
  },
  {
   "cell_type": "code",
   "execution_count": 88,
   "metadata": {},
   "outputs": [],
   "source": [
    "files_list = sorted([i for i in os.listdir('en_2') if i.startswith('out') and i > 'out_1750589'])"
   ]
  },
  {
   "cell_type": "code",
   "execution_count": 91,
   "metadata": {},
   "outputs": [],
   "source": [
    "path_part = os.getcwd()+'/en_2/'"
   ]
  },
  {
   "cell_type": "code",
   "execution_count": 96,
   "metadata": {},
   "outputs": [],
   "source": [
    "import re"
   ]
  },
  {
   "cell_type": "code",
   "execution_count": 102,
   "metadata": {},
   "outputs": [],
   "source": [
    "def read_log_file(path):\n",
    "    with open(path) as f:\n",
    "        lst = []\n",
    "        for line in f:\n",
    "            if 'Initial energy' in line:\n",
    "                ups = line.count('Up')\n",
    "                downs = line.count('Dn')\n",
    "            if 'Energy after sweep' in line:\n",
    "                lst.append(float(re.findall(r'[-\\d\\.]+',line)[2]))\n",
    "\n",
    "    return ups, downs, min(lst)"
   ]
  },
  {
   "cell_type": "code",
   "execution_count": 105,
   "metadata": {},
   "outputs": [],
   "source": [
    "df_new = pd.DataFrame(read_log_file(path_part+i) for i in files_list)\n",
    "df_new.columns = ['Nup_total', 'Ndown_total', 'E']"
   ]
  },
  {
   "cell_type": "code",
   "execution_count": 107,
   "metadata": {},
   "outputs": [
    {
     "data": {
      "text/html": [
       "<div>\n",
       "<style scoped>\n",
       "    .dataframe tbody tr th:only-of-type {\n",
       "        vertical-align: middle;\n",
       "    }\n",
       "\n",
       "    .dataframe tbody tr th {\n",
       "        vertical-align: top;\n",
       "    }\n",
       "\n",
       "    .dataframe thead th {\n",
       "        text-align: right;\n",
       "    }\n",
       "</style>\n",
       "<table border=\"1\" class=\"dataframe\">\n",
       "  <thead>\n",
       "    <tr style=\"text-align: right;\">\n",
       "      <th></th>\n",
       "      <th>Nup_total</th>\n",
       "      <th>Ndown_total</th>\n",
       "      <th>E</th>\n",
       "    </tr>\n",
       "  </thead>\n",
       "  <tbody>\n",
       "    <tr>\n",
       "      <th>25</th>\n",
       "      <td>20</td>\n",
       "      <td>15</td>\n",
       "      <td>-150.741564</td>\n",
       "    </tr>\n",
       "    <tr>\n",
       "      <th>1</th>\n",
       "      <td>20</td>\n",
       "      <td>19</td>\n",
       "      <td>-172.966975</td>\n",
       "    </tr>\n",
       "    <tr>\n",
       "      <th>17</th>\n",
       "      <td>20</td>\n",
       "      <td>16</td>\n",
       "      <td>-156.311659</td>\n",
       "    </tr>\n",
       "    <tr>\n",
       "      <th>9</th>\n",
       "      <td>20</td>\n",
       "      <td>17</td>\n",
       "      <td>-161.864178</td>\n",
       "    </tr>\n",
       "    <tr>\n",
       "      <th>2</th>\n",
       "      <td>21</td>\n",
       "      <td>20</td>\n",
       "      <td>-181.500691</td>\n",
       "    </tr>\n",
       "    <tr>\n",
       "      <th>18</th>\n",
       "      <td>21</td>\n",
       "      <td>17</td>\n",
       "      <td>-164.842154</td>\n",
       "    </tr>\n",
       "    <tr>\n",
       "      <th>10</th>\n",
       "      <td>21</td>\n",
       "      <td>18</td>\n",
       "      <td>-170.409906</td>\n",
       "    </tr>\n",
       "    <tr>\n",
       "      <th>26</th>\n",
       "      <td>21</td>\n",
       "      <td>16</td>\n",
       "      <td>-159.287183</td>\n",
       "    </tr>\n",
       "    <tr>\n",
       "      <th>3</th>\n",
       "      <td>22</td>\n",
       "      <td>21</td>\n",
       "      <td>-190.007600</td>\n",
       "    </tr>\n",
       "    <tr>\n",
       "      <th>19</th>\n",
       "      <td>22</td>\n",
       "      <td>18</td>\n",
       "      <td>-173.393792</td>\n",
       "    </tr>\n",
       "    <tr>\n",
       "      <th>27</th>\n",
       "      <td>22</td>\n",
       "      <td>17</td>\n",
       "      <td>-167.802746</td>\n",
       "    </tr>\n",
       "    <tr>\n",
       "      <th>11</th>\n",
       "      <td>22</td>\n",
       "      <td>19</td>\n",
       "      <td>-178.924005</td>\n",
       "    </tr>\n",
       "    <tr>\n",
       "      <th>20</th>\n",
       "      <td>23</td>\n",
       "      <td>19</td>\n",
       "      <td>-181.896934</td>\n",
       "    </tr>\n",
       "    <tr>\n",
       "      <th>12</th>\n",
       "      <td>23</td>\n",
       "      <td>20</td>\n",
       "      <td>-187.418848</td>\n",
       "    </tr>\n",
       "    <tr>\n",
       "      <th>28</th>\n",
       "      <td>23</td>\n",
       "      <td>18</td>\n",
       "      <td>-176.296371</td>\n",
       "    </tr>\n",
       "    <tr>\n",
       "      <th>4</th>\n",
       "      <td>23</td>\n",
       "      <td>22</td>\n",
       "      <td>-198.488298</td>\n",
       "    </tr>\n",
       "    <tr>\n",
       "      <th>29</th>\n",
       "      <td>24</td>\n",
       "      <td>19</td>\n",
       "      <td>-184.763129</td>\n",
       "    </tr>\n",
       "    <tr>\n",
       "      <th>5</th>\n",
       "      <td>24</td>\n",
       "      <td>23</td>\n",
       "      <td>-206.942144</td>\n",
       "    </tr>\n",
       "    <tr>\n",
       "      <th>21</th>\n",
       "      <td>24</td>\n",
       "      <td>20</td>\n",
       "      <td>-190.369414</td>\n",
       "    </tr>\n",
       "    <tr>\n",
       "      <th>13</th>\n",
       "      <td>24</td>\n",
       "      <td>21</td>\n",
       "      <td>-195.885944</td>\n",
       "    </tr>\n",
       "    <tr>\n",
       "      <th>14</th>\n",
       "      <td>25</td>\n",
       "      <td>22</td>\n",
       "      <td>-204.316178</td>\n",
       "    </tr>\n",
       "    <tr>\n",
       "      <th>30</th>\n",
       "      <td>25</td>\n",
       "      <td>20</td>\n",
       "      <td>-193.210040</td>\n",
       "    </tr>\n",
       "    <tr>\n",
       "      <th>6</th>\n",
       "      <td>25</td>\n",
       "      <td>24</td>\n",
       "      <td>-215.366984</td>\n",
       "    </tr>\n",
       "    <tr>\n",
       "      <th>22</th>\n",
       "      <td>25</td>\n",
       "      <td>21</td>\n",
       "      <td>-198.817316</td>\n",
       "    </tr>\n",
       "    <tr>\n",
       "      <th>15</th>\n",
       "      <td>26</td>\n",
       "      <td>23</td>\n",
       "      <td>-212.733339</td>\n",
       "    </tr>\n",
       "    <tr>\n",
       "      <th>31</th>\n",
       "      <td>26</td>\n",
       "      <td>21</td>\n",
       "      <td>-201.606018</td>\n",
       "    </tr>\n",
       "    <tr>\n",
       "      <th>23</th>\n",
       "      <td>26</td>\n",
       "      <td>22</td>\n",
       "      <td>-207.222729</td>\n",
       "    </tr>\n",
       "    <tr>\n",
       "      <th>7</th>\n",
       "      <td>26</td>\n",
       "      <td>25</td>\n",
       "      <td>-223.763166</td>\n",
       "    </tr>\n",
       "    <tr>\n",
       "      <th>16</th>\n",
       "      <td>27</td>\n",
       "      <td>23</td>\n",
       "      <td>-215.595692</td>\n",
       "    </tr>\n",
       "    <tr>\n",
       "      <th>8</th>\n",
       "      <td>27</td>\n",
       "      <td>24</td>\n",
       "      <td>-221.098730</td>\n",
       "    </tr>\n",
       "    <tr>\n",
       "      <th>24</th>\n",
       "      <td>27</td>\n",
       "      <td>22</td>\n",
       "      <td>-209.977532</td>\n",
       "    </tr>\n",
       "    <tr>\n",
       "      <th>0</th>\n",
       "      <td>27</td>\n",
       "      <td>26</td>\n",
       "      <td>-232.130538</td>\n",
       "    </tr>\n",
       "  </tbody>\n",
       "</table>\n",
       "</div>"
      ],
      "text/plain": [
       "    Nup_total  Ndown_total           E\n",
       "25         20           15 -150.741564\n",
       "1          20           19 -172.966975\n",
       "17         20           16 -156.311659\n",
       "9          20           17 -161.864178\n",
       "2          21           20 -181.500691\n",
       "18         21           17 -164.842154\n",
       "10         21           18 -170.409906\n",
       "26         21           16 -159.287183\n",
       "3          22           21 -190.007600\n",
       "19         22           18 -173.393792\n",
       "27         22           17 -167.802746\n",
       "11         22           19 -178.924005\n",
       "20         23           19 -181.896934\n",
       "12         23           20 -187.418848\n",
       "28         23           18 -176.296371\n",
       "4          23           22 -198.488298\n",
       "29         24           19 -184.763129\n",
       "5          24           23 -206.942144\n",
       "21         24           20 -190.369414\n",
       "13         24           21 -195.885944\n",
       "14         25           22 -204.316178\n",
       "30         25           20 -193.210040\n",
       "6          25           24 -215.366984\n",
       "22         25           21 -198.817316\n",
       "15         26           23 -212.733339\n",
       "31         26           21 -201.606018\n",
       "23         26           22 -207.222729\n",
       "7          26           25 -223.763166\n",
       "16         27           23 -215.595692\n",
       "8          27           24 -221.098730\n",
       "24         27           22 -209.977532\n",
       "0          27           26 -232.130538"
      ]
     },
     "execution_count": 107,
     "metadata": {},
     "output_type": "execute_result"
    }
   ],
   "source": [
    "df_new.sort_values(by = 'Nup_total')"
   ]
  },
  {
   "cell_type": "code",
   "execution_count": 109,
   "metadata": {},
   "outputs": [],
   "source": [
    "def mu2(nup = 19, ndown = 17):\n",
    "    \n",
    "    return get_mu_range(df_new, nup , ndown, h_range)"
   ]
  },
  {
   "cell_type": "code",
   "execution_count": 127,
   "metadata": {},
   "outputs": [
    {
     "data": {
      "text/plain": [
       "<matplotlib.legend.Legend at 0x7fc446066d60>"
      ]
     },
     "execution_count": 127,
     "metadata": {},
     "output_type": "execute_result"
    },
    {
     "data": {
      "image/png": "[encoded data removed]",
      "text/plain": [
       "<Figure size 640x480 with 1 Axes>"
      ]
     },
     "metadata": {},
     "output_type": "display_data"
    }
   ],
   "source": [
    "_ = plt.plot(h_range, mu2(20,19), label = '19,17', c = 'r')\n",
    "_ = plt.plot(h_range, mu2(22,21), label = '22,21', c = 'black')\n",
    "_ = plt.plot(h_range, mu2(25,24), label = '25,24', c = 'purple')\n",
    "_ = plt.plot(h_range, mu2(26,25), label = '26,25', c = 'brown')\n",
    "_ = plt.plot(h_range, mu2(27,26), label = '27,26', c = 'g')\n",
    "\n",
    "plt.axhline(-4.24, label = r'$\\mu-value$')\n",
    "plt.xlabel('h', size = 15)\n",
    "plt.ylabel(r'$\\mu$', size = 15)\n",
    "plt.legend()"
   ]
  },
  {
   "cell_type": "markdown",
   "metadata": {},
   "source": [
    "# Nup = Ndown + 3"
   ]
  },
  {
   "cell_type": "code",
   "execution_count": 111,
   "metadata": {},
   "outputs": [
    {
     "data": {
      "text/plain": [
       "<matplotlib.legend.Legend at 0x7fc461d41d90>"
      ]
     },
     "execution_count": 111,
     "metadata": {},
     "output_type": "execute_result"
    },
    {
     "data": {
      "image/png": "[encoded data removed]",
      "text/plain": [
       "<Figure size 640x480 with 1 Axes>"
      ]
     },
     "metadata": {},
     "output_type": "display_data"
    }
   ],
   "source": [
    "_ = plt.plot(h_range, mu2(20,17), label = '20,17', c = 'r')\n",
    "_ = plt.plot(h_range, mu2(22,19), label = '22,19', c = 'black')\n",
    "_ = plt.plot(h_range, mu2(25,22), label = '25,22', c = 'purple')\n",
    "_ = plt.plot(h_range, mu2(27,24), label = '27,24', c = 'g')\n",
    "\n",
    "plt.axhline(-4.24, label = r'$\\mu-value$')\n",
    "plt.xlabel('h', size = 15)\n",
    "plt.ylabel(r'$\\mu$', size = 15)\n",
    "plt.legend()"
   ]
  },
  {
   "cell_type": "markdown",
   "metadata": {},
   "source": [
    "# Nup = Ndown + 4"
   ]
  },
  {
   "cell_type": "code",
   "execution_count": 112,
   "metadata": {},
   "outputs": [
    {
     "data": {
      "text/plain": [
       "<matplotlib.legend.Legend at 0x7fc445abbdf0>"
      ]
     },
     "execution_count": 112,
     "metadata": {},
     "output_type": "execute_result"
    },
    {
     "data": {
      "image/png": "[encoded data removed]",
      "text/plain": [
       "<Figure size 640x480 with 1 Axes>"
      ]
     },
     "metadata": {},
     "output_type": "display_data"
    }
   ],
   "source": [
    "_ = plt.plot(h_range, mu2(20,16), label = '20,16', c = 'r')\n",
    "_ = plt.plot(h_range, mu2(22,18), label = '22,18', c = 'black')\n",
    "_ = plt.plot(h_range, mu2(25,21), label = '25,21', c = 'purple')\n",
    "_ = plt.plot(h_range, mu2(27,23), label = '27,23', c = 'g')\n",
    "\n",
    "plt.axhline(-4.24, label = r'$\\mu-value$')\n",
    "plt.xlabel('h', size = 15)\n",
    "plt.ylabel(r'$\\mu$', size = 15)\n",
    "plt.legend()"
   ]
  },
  {
   "cell_type": "markdown",
   "metadata": {},
   "source": [
    "If I am getting everything right, looks like we cannot match the data better than we already did \n",
    "\n",
    "\n",
    "\n",
    "# Data for E(Nup = Ndown+1)"
   ]
  },
  {
   "cell_type": "code",
   "execution_count": 116,
   "metadata": {},
   "outputs": [
    {
     "data": {
      "text/html": [
       "<div>\n",
       "<style scoped>\n",
       "    .dataframe tbody tr th:only-of-type {\n",
       "        vertical-align: middle;\n",
       "    }\n",
       "\n",
       "    .dataframe tbody tr th {\n",
       "        vertical-align: top;\n",
       "    }\n",
       "\n",
       "    .dataframe thead th {\n",
       "        text-align: right;\n",
       "    }\n",
       "</style>\n",
       "<table border=\"1\" class=\"dataframe\">\n",
       "  <thead>\n",
       "    <tr style=\"text-align: right;\">\n",
       "      <th></th>\n",
       "      <th>Nup_total</th>\n",
       "      <th>Ndown_total</th>\n",
       "      <th>E</th>\n",
       "    </tr>\n",
       "  </thead>\n",
       "  <tbody>\n",
       "    <tr>\n",
       "      <th>1</th>\n",
       "      <td>20</td>\n",
       "      <td>19</td>\n",
       "      <td>-172.966975</td>\n",
       "    </tr>\n",
       "    <tr>\n",
       "      <th>2</th>\n",
       "      <td>21</td>\n",
       "      <td>20</td>\n",
       "      <td>-181.500691</td>\n",
       "    </tr>\n",
       "    <tr>\n",
       "      <th>3</th>\n",
       "      <td>22</td>\n",
       "      <td>21</td>\n",
       "      <td>-190.007600</td>\n",
       "    </tr>\n",
       "    <tr>\n",
       "      <th>4</th>\n",
       "      <td>23</td>\n",
       "      <td>22</td>\n",
       "      <td>-198.488298</td>\n",
       "    </tr>\n",
       "    <tr>\n",
       "      <th>5</th>\n",
       "      <td>24</td>\n",
       "      <td>23</td>\n",
       "      <td>-206.942144</td>\n",
       "    </tr>\n",
       "    <tr>\n",
       "      <th>6</th>\n",
       "      <td>25</td>\n",
       "      <td>24</td>\n",
       "      <td>-215.366984</td>\n",
       "    </tr>\n",
       "    <tr>\n",
       "      <th>7</th>\n",
       "      <td>26</td>\n",
       "      <td>25</td>\n",
       "      <td>-223.763166</td>\n",
       "    </tr>\n",
       "    <tr>\n",
       "      <th>0</th>\n",
       "      <td>27</td>\n",
       "      <td>26</td>\n",
       "      <td>-232.130538</td>\n",
       "    </tr>\n",
       "  </tbody>\n",
       "</table>\n",
       "</div>"
      ],
      "text/plain": [
       "   Nup_total  Ndown_total           E\n",
       "1         20           19 -172.966975\n",
       "2         21           20 -181.500691\n",
       "3         22           21 -190.007600\n",
       "4         23           22 -198.488298\n",
       "5         24           23 -206.942144\n",
       "6         25           24 -215.366984\n",
       "7         26           25 -223.763166\n",
       "0         27           26 -232.130538"
      ]
     },
     "execution_count": 116,
     "metadata": {},
     "output_type": "execute_result"
    }
   ],
   "source": [
    "df_new.query('Nup_total == Ndown_total+1').sort_values(by = 'Nup_total')"
   ]
  },
  {
   "cell_type": "code",
   "execution_count": 125,
   "metadata": {},
   "outputs": [
    {
     "data": {
      "text/html": [
       "<div>\n",
       "<style scoped>\n",
       "    .dataframe tbody tr th:only-of-type {\n",
       "        vertical-align: middle;\n",
       "    }\n",
       "\n",
       "    .dataframe tbody tr th {\n",
       "        vertical-align: top;\n",
       "    }\n",
       "\n",
       "    .dataframe thead th {\n",
       "        text-align: right;\n",
       "    }\n",
       "</style>\n",
       "<table border=\"1\" class=\"dataframe\">\n",
       "  <thead>\n",
       "    <tr style=\"text-align: right;\">\n",
       "      <th></th>\n",
       "      <th>Nup_total</th>\n",
       "      <th>Ndown_total</th>\n",
       "      <th>E</th>\n",
       "    </tr>\n",
       "  </thead>\n",
       "  <tbody>\n",
       "    <tr>\n",
       "      <th>7</th>\n",
       "      <td>26</td>\n",
       "      <td>25</td>\n",
       "      <td>-223.763166</td>\n",
       "    </tr>\n",
       "  </tbody>\n",
       "</table>\n",
       "</div>"
      ],
      "text/plain": [
       "   Nup_total  Ndown_total           E\n",
       "7         26           25 -223.763166"
      ]
     },
     "execution_count": 125,
     "metadata": {},
     "output_type": "execute_result"
    }
   ],
   "source": [
    "df_new.query('Nup_total == 26 and Ndown_total == 25')"
   ]
  },
  {
   "cell_type": "code",
   "execution_count": null,
   "metadata": {},
   "outputs": [],
   "source": []
  }
 ],
 "metadata": {
  "kernelspec": {
   "display_name": "Python 3 (ipykernel)",
   "language": "python",
   "name": "python3"
  },
  "language_info": {
   "codemirror_mode": {
    "name": "ipython",
    "version": 3
   },
   "file_extension": ".py",
   "mimetype": "text/x-python",
   "name": "python",
   "nbconvert_exporter": "python",
   "pygments_lexer": "ipython3",
   "version": "3.8.3"
  }
 },
 "nbformat": 4,
 "nbformat_minor": 4
}
