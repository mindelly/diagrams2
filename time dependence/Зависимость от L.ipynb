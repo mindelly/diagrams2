{
 "cells": [
  {
   "cell_type": "markdown",
   "id": "a1cf3b1f",
   "metadata": {},
   "source": [
    "# Зависимость от длины\n",
    "\n",
    "## $N_{\\uparrow} = N_{\\downarrow} = 10$ и $W = 3$\n",
    "\n",
    "Все точки считаются до одинакового порядка сходимости энергии – до $ < 10^{-6}$"
   ]
  },
  {
   "cell_type": "code",
   "execution_count": 4,
   "id": "3e56ac7a",
   "metadata": {},
   "outputs": [],
   "source": [
    "import pandas as pd\n",
    "import re"
   ]
  },
  {
   "cell_type": "code",
   "execution_count": 13,
   "id": "67f03e46",
   "metadata": {},
   "outputs": [],
   "source": [
    "lst = []\n",
    "with open('W3_energies_time.txt') as f:\n",
    "    for i in f:\n",
    "        lst.append(int(i) for i in re.findall(r'\\d+',i)[-4:])"
   ]
  },
  {
   "cell_type": "markdown",
   "id": "7b5c6272",
   "metadata": {},
   "source": [
    "## s - секунды, ms - миллисекунды. Для маленькой длины у меня почему-то зависимость оказалась нелинейной, объяснения этому у меня нет"
   ]
  },
  {
   "cell_type": "code",
   "execution_count": 14,
   "id": "f798d664",
   "metadata": {},
   "outputs": [],
   "source": [
    "df = pd.DataFrame(lst)\n",
    "df.columns = ['ms', 's', 'W', 'L']"
   ]
  },
  {
   "cell_type": "code",
   "execution_count": 17,
   "id": "546142fe",
   "metadata": {},
   "outputs": [
    {
     "data": {
      "text/plain": [
       "<AxesSubplot:xlabel='L'>"
      ]
     },
     "execution_count": 17,
     "metadata": {},
     "output_type": "execute_result"
    },
    {
     "data": {
      "image/png": "[encoded data removed]",
      "text/plain": [
       "<Figure size 432x288 with 1 Axes>"
      ]
     },
     "metadata": {
      "needs_background": "light"
     },
     "output_type": "display_data"
    }
   ],
   "source": [
    "df[df.L>=40].plot(x = 'L', y = 's')"
   ]
  },
  {
   "cell_type": "code",
   "execution_count": null,
   "id": "168a8bbd",
   "metadata": {},
   "outputs": [],
   "source": []
  }
 ],
 "metadata": {
  "kernelspec": {
   "display_name": "Python 3 (ipykernel)",
   "language": "python",
   "name": "python3"
  },
  "language_info": {
   "codemirror_mode": {
    "name": "ipython",
    "version": 3
   },
   "file_extension": ".py",
   "mimetype": "text/x-python",
   "name": "python",
   "nbconvert_exporter": "python",
   "pygments_lexer": "ipython3",
   "version": "3.9.13"
  }
 },
 "nbformat": 4,
 "nbformat_minor": 5
}
